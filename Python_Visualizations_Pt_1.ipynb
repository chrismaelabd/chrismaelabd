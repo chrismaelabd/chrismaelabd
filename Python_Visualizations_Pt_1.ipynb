{
  "cells": [
    {
      "cell_type": "markdown",
      "metadata": {
        "id": "view-in-github",
        "colab_type": "text"
      },
      "source": [
        "<a href=\"https://colab.research.google.com/github/chrismaelabd/chrismaelabd/blob/main/Python_Visualizations_Pt_1.ipynb\" target=\"_parent\"><img src=\"https://colab.research.google.com/assets/colab-badge.svg\" alt=\"Open In Colab\"/></a>"
      ]
    },
    {
      "cell_type": "markdown",
      "metadata": {
        "id": "Zh_6nDmEe1DC"
      },
      "source": [
        "# Visualizations with Python 101 - Part 1"
      ]
    },
    {
      "cell_type": "markdown",
      "metadata": {
        "id": "hvv8bIQbck2x"
      },
      "source": [
        "## Learning Objectives"
      ]
    },
    {
      "cell_type": "markdown",
      "metadata": {
        "id": "P5eH_AKBfVrc"
      },
      "source": [
        "- Discuss an overview of the types of visualizations available.\n",
        "- Discuss which types of visuals are best for showing what type of information/comparisons.\n",
        "\n",
        "- Discuss the Anatomy of a Matplotlib Figure\n",
        "\n",
        "- Discuss the many ways to create/start a figure\n",
        "    - Matplotlib plt functions\n",
        "    - Matploltib OOP interface\n",
        "    - Pandas\n",
        "    - Seaborn\n"
      ]
    },
    {
      "cell_type": "markdown",
      "metadata": {
        "id": "Nrt8Tw_0fVrd"
      },
      "source": [
        "## Data Visualization Overview"
      ]
    },
    {
      "cell_type": "markdown",
      "metadata": {
        "id": "q6w9fkv4fVre"
      },
      "source": [
        "- We use visualizations to tell a story about our data. \n",
        "    - Knowing which visualization is best to tell the story you are trying to tell is an important skill. \n",
        "\n",
        "\n",
        "- Let's Explore Different Types of Visualizations and when they are most appropriate to use. \n",
        "\n",
        "    - **[The Data Viz Project](https://datavizproject.com/)**\n",
        "\n",
        "    - **[Python Graph Gallery](https://www.python-graph-gallery.com/)**\n",
        "\n",
        "    - [Blog Post: How to Choose a Chart Type](https://towardsdatascience.com/data-visualization-101-how-to-choose-a-chart-type-9b8830e558d6)\n",
        "\n",
        "\n"
      ]
    },
    {
      "cell_type": "markdown",
      "metadata": {
        "id": "iijmn9qbkE9t"
      },
      "source": [
        "### Example Galleries [Python Packages]\n",
        "Let's explore the Python-specific options available to us. \n",
        "\n",
        "\n",
        "\n",
        "- [Matplotlib Example Gallery](https://matplotlib.org/gallery/index.html#examples-index) \n",
        "- [Seaborn Example Gallery](https://seaborn.pydata.org/examples/index.html)\n",
        "- [Pandas Visualization docs](https://pandas.pydata.org/pandas-docs/stable/user_guide/visualization.html)\n"
      ]
    },
    {
      "cell_type": "markdown",
      "metadata": {
        "id": "seKGiKNxfVrf"
      },
      "source": [
        "# Using Visualizations for Exploratory Data Analysis (EDA)"
      ]
    },
    {
      "cell_type": "markdown",
      "metadata": {
        "id": "2Ln3iky3fVrg"
      },
      "source": [
        "### The Questions to Answer"
      ]
    },
    {
      "cell_type": "markdown",
      "metadata": {
        "id": "0IJkeQoGfVrg"
      },
      "source": [
        "1. What is the distribution of house prices in Ames, Iowa?\n",
        "    - What is the median home price?\n",
        "    - What is the average home price?\n",
        "    \n",
        "2. Are there any potential outliers in home price?"
      ]
    },
    {
      "cell_type": "markdown",
      "metadata": {
        "id": "PTR1zZ83fVrg"
      },
      "source": [
        "### The Provided Data"
      ]
    },
    {
      "cell_type": "code",
      "execution_count": null,
      "metadata": {
        "ExecuteTime": {
          "end_time": "2021-08-17T15:53:40.962480Z",
          "start_time": "2021-08-17T15:53:40.045860Z"
        },
        "id": "qzW2tY3Plflp"
      },
      "outputs": [],
      "source": [
        "import pandas as pd\n",
        "import numpy as np\n",
        "\n",
        "import matplotlib.pyplot as plt\n",
        "import seaborn as sns"
      ]
    },
    {
      "cell_type": "code",
      "execution_count": null,
      "metadata": {
        "ExecuteTime": {
          "end_time": "2021-08-17T15:53:42.729781Z",
          "start_time": "2021-08-17T15:53:42.269379Z"
        },
        "id": "9nBCFyXCfMtZ"
      },
      "outputs": [],
      "source": [
        "cols_to_use = ['YrSold', 'MoSold', 'Fireplaces', 'TotRmsAbvGrd', 'GrLivArea',\n",
        "          'FullBath', 'YearRemodAdd', 'YearBuilt', 'OverallCond', \n",
        "          'OverallQual', 'LotArea', 'SalePrice','BldgType']\n",
        "\n",
        "df = pd.read_csv(\"https://docs.google.com/spreadsheets/d/e/2PACX-1vSECHeeoC-lvBG1TA-1DXC5m2VKZ5QqwKRBSTOBW_ivkl40nvNDBYpNzq4X6jmWSzatT4Sr2K-K4Ou2/pub?output=csv\",\n",
        "                usecols=cols_to_use\n",
        "                )\n",
        "display(df.head())\n",
        "df.info()"
      ]
    },
    {
      "cell_type": "code",
      "source": [
        ""
      ],
      "metadata": {
        "id": "5J_j85QvPCDE"
      },
      "execution_count": null,
      "outputs": []
    },
    {
      "cell_type": "markdown",
      "metadata": {
        "id": "FUd6Ahp9fVrh"
      },
      "source": [
        "# The Many Ways of Making a Figure in Python"
      ]
    },
    {
      "cell_type": "markdown",
      "metadata": {
        "ExecuteTime": {
          "end_time": "2021-08-02T21:18:24.975028Z",
          "start_time": "2021-08-02T21:18:24.969082Z"
        },
        "id": "UWdTw33ZfVrh"
      },
      "source": [
        "- There are MANY ways to make data visualizations with Python. \n",
        "- Today, we will focus on non-interactive visualizations.( Sorry, Plotly Express :*-( )\n",
        "\n",
        "- The ~4 Different Ways to Plot with Python:\n",
        "\n",
        "    1. Matplotlib plt functions:\n",
        "        - `plt.plot`/`plt.bar`,`plt.hist`, etc.      \n",
        "    2. Matploltib OOP interface:\n",
        "       ```python \n",
        "       fig, ax =plt.subplots()\n",
        "       ax.plot#/ax.hist, ax.bar, etc\n",
        "        ```\n",
        "        \n",
        "    3. Pandas:\n",
        "        ```python\n",
        "        # using .plot\n",
        "         ax = df.plot(kind='hist)\n",
        "\n",
        "         # using .hist\n",
        "         ax = df.hist(bins='auto')\n",
        "        ```\n",
        "        \n",
        "    4. Seaborn:\n",
        "        ```python\n",
        "         sns.histplot(data=df,x='Price')\n",
        "         sns.regplot(data=df,x='Sqft',y='Price\n",
        "        ```  \n",
        "\n",
        "- **All 4 of these approaches to making figures with Python ultimately use matplotlib behind the scenes.**"
      ]
    },
    {
      "cell_type": "markdown",
      "metadata": {
        "id": "3Vv08fR2fVrh"
      },
      "source": [
        "> For this section of the notebook, we will focus on answering one question in each of the 4+ different ways. \n",
        "> #### Q1: What is the distribution of house prices in Ames, Iowa?"
      ]
    },
    {
      "cell_type": "markdown",
      "metadata": {
        "ExecuteTime": {
          "end_time": "2021-08-02T21:35:35.719097Z",
          "start_time": "2021-08-02T21:35:35.717378Z"
        },
        "id": "cVDqUh3EfVrh"
      },
      "source": [
        "## Method 01: Using Matplotlib Plt Functions"
      ]
    },
    {
      "cell_type": "markdown",
      "metadata": {
        "id": "MHNQOSkMfVri"
      },
      "source": [
        "- Select the correct plt function and plot the data.\n",
        "- Make sure that:\n",
        "    - We have an xlabel,ylabel, and title.\n",
        "    - the figure is large enough\n",
        "- Add a vertical line for the mean, including a label with the mean. \n",
        "    - Make sure its: \n",
        "        - Different color than the bars\n",
        "        - a dotted line\n",
        "- Add a legend "
      ]
    },
    {
      "cell_type": "markdown",
      "metadata": {
        "id": "7ubNsh0afVri"
      },
      "source": [
        "#### Plot 1: Sale Price Distribution"
      ]
    },
    {
      "cell_type": "code",
      "execution_count": null,
      "metadata": {
        "ExecuteTime": {
          "end_time": "2021-08-05T17:45:50.103333Z",
          "start_time": "2021-08-05T17:45:50.101484Z"
        },
        "id": "XDDsFfrufVri",
        "colab": {
          "base_uri": "https://localhost:8080/",
          "height": 350
        },
        "outputId": "d64f5fa2-feb5-49e8-a967-2766c8cfbfb6"
      },
      "outputs": [
        {
          "output_type": "display_data",
          "data": {
            "image/png": "[encoded data removed]",
            "text/plain": [
              "<Figure size 576x360 with 1 Axes>"
            ]
          },
          "metadata": {
            "needs_background": "light"
          }
        }
      ],
      "source": [
        "#Plot 1: Sale Price Distribution\n",
        "plt.figure(figsize=(8,5))\n",
        "plt.hist(df['SalePrice'], bins='auto')\n",
        "plt.ylabel(\"# of Houses\")\n",
        "plt.xlabel(\"Sale Price ($)\")\n",
        "plt.title(\"Distribution of Home Prices in Ames, Iowa\")\n",
        "plt.axvline(df['SalePrice'].median(), color=\"k\", ls=\":\", label=f\"Median Price={round(df['SalePrice'].median(),2)}\")\n",
        "plt.legend();"
      ]
    },
    {
      "cell_type": "markdown",
      "metadata": {
        "id": "i8VwblzjfVri"
      },
      "source": [
        "## Method 02: Using Matplotlib OOP Interface"
      ]
    },
    {
      "cell_type": "markdown",
      "metadata": {
        "id": "85DRRowlfVri"
      },
      "source": [
        "#### A Tale of Two Syntaxes\n",
        "-  *Matplotlib is powerful but can be a bit confusing at times because of its 2 sets of commands:*\n",
        "    - the matplotlib.pyplot functions (`plt.bar()`,`plt.title()`)\n",
        "    - the object_oriented methods (`ax.bar()`,`ax.set_title()`)\n",
        "    \n",
        "- The 2 syntaxes can be confusing at first and cause problems & odd results when mixed together.\n",
        "    - Learn about some of the problems when mixing types.\n",
        "    - Example: see how plt.title()/plt.xlabel(),etc. can behave strangely in subplots.\n",
        "    \n",
        "    - **Bookmark this article, its the best explanation of how matploblib'S 2 interfaces work:**\n",
        "> [\"Artist\" in Matplotlib - something I wanted to know before spending tremendous hours on googling how-tos.](https://dev.to/skotaro/artist-in-matplotlib---something-i-wanted-to-know-before-spending-tremendous-hours-on-googling-how-tos--31oo)<br>\n",
        "\n",
        "<!-- - [My Blog Post on Making Customized Figures in seaborn](https://jirvingphd.github.io/harnessing_seaborn_subplots_for_eda)\n",
        "    - This covers some concepts we didn't have time to cover, like ticklabel formatters. -->\n",
        "\n",
        ">- ***So... what are \"object-oriented-methods\" anyway?***"
      ]
    },
    {
      "cell_type": "markdown",
      "metadata": {
        "id": "I02eAtybfVri"
      },
      "source": [
        "### OOP Crash Course"
      ]
    },
    {
      "cell_type": "markdown",
      "metadata": {
        "id": "S3MmpZ9lfVri"
      },
      "source": [
        "- **Object-Oriented Programming (OOP):**\n",
        "    - OOP is all about working with Classes, which are the blueprints for a type of variable. \n",
        "    - Objects/classes can have functions that are attached to the object. \n",
        "        - When a function is attached to a class its called a **method**\n",
        "    - Object can also store variables inside themselves. \n",
        "        - When a variable is attached to an object it is called an **attribute**\n",
        "        \n",
        "        \n",
        "- OOP Examples You already Know:\n",
        "    - `pd.DataFrame` is a class\n",
        "    - `df = pd.DataFrame(...)` creates a dataframe object.\n",
        "    - DataFrames have **atrributes**:\n",
        "        - `df.columns`\n",
        "        - `df.index`\n",
        "        - `df.dtypes`\n",
        "    - DataFrames have **methods**\n",
        "        - `df.head()`\n",
        "        - `df.sort_values()`\n",
        "        - `df.info()`\n",
        "        - `df.dropna()`\n",
        "        - `df.plot()`\n",
        "        \n",
        "        \n",
        "- You will learn about classes in Phase 3.\n",
        "        "
      ]
    },
    {
      "cell_type": "markdown",
      "metadata": {
        "id": "3VKFNOr7fVri"
      },
      "source": [
        "### Anatomy of a Matplotlib Figure\n",
        "\n"
      ]
    },
    {
      "cell_type": "markdown",
      "metadata": {
        "id": "tAGYB195T6aR"
      },
      "source": [
        "<center><img src=\"https://raw.githubusercontent.com/jirvingphd/fsds_100719_cohort_notes/master/images/matplotlib_anatomy.png\" width=400></center>\n",
        "\n",
        "- Matplotlib Figures are composed of 3 different types of objects:\n",
        "    - `Figure` is the largest bucket and contains everything else. It is like a picture frame without any actual images in it.\n",
        "  - `Axes` are the actual plot / image inside of the Figure / frame. \n",
        "        - this is the same `ax` as in `fig, ax = plt.subplots()` and that is returned when you create a Pandas or Seaborn figure.\n",
        "        - There is an 'Axes` for each subplot in the Figure\n",
        "\n",
        "        "
      ]
    },
    {
      "cell_type": "code",
      "execution_count": null,
      "metadata": {
        "ExecuteTime": {
          "end_time": "2021-08-05T17:45:50.107328Z",
          "start_time": "2021-08-05T17:45:50.105484Z"
        },
        "id": "CM5tS0ObfVri"
      },
      "outputs": [],
      "source": [
        "## Make an empty figure and ax with plt.subplots\n"
      ]
    },
    {
      "cell_type": "code",
      "execution_count": null,
      "metadata": {
        "ExecuteTime": {
          "end_time": "2021-08-05T17:45:57.870961Z",
          "start_time": "2021-08-05T17:45:57.868733Z"
        },
        "id": "iYza_cHcfVri"
      },
      "outputs": [],
      "source": [
        "## Run help on fig \n"
      ]
    },
    {
      "cell_type": "markdown",
      "metadata": {
        "id": "X5Nd2Nw8fVrj"
      },
      "source": [
        "#### Anatomy of an Axes\n",
        "- `Axes` contain information about the titles, labels, grid,background, they also contain an. See the figure below for the contents of `Axes`\n",
        "- Inside Axes there is an `Axis` which is further divided into an `Axis.xaxis` and an `Axis.yaxis` that contain the ticks and the tick lables.\n",
        "\n",
        "    <center><img src=\"https://raw.githubusercontent.com/jirvingphd/fsds_100719_cohort_notes/master/images/matplotlib_Axes_layout2.png\" width=500></center>\n",
        "    \n",
        "- However, axes do NOT actually contain the VISUAL for the figure, just the information.\n",
        "  "
      ]
    },
    {
      "cell_type": "code",
      "execution_count": null,
      "metadata": {
        "ExecuteTime": {
          "end_time": "2021-08-05T17:45:58.068010Z",
          "start_time": "2021-08-05T17:45:58.065727Z"
        },
        "scrolled": true,
        "id": "0W9YAVoIfVrj"
      },
      "outputs": [],
      "source": [
        "# Run help on ax\n"
      ]
    },
    {
      "cell_type": "markdown",
      "metadata": {
        "id": "xtvbA3fgfVrj"
      },
      "source": [
        "#### Now, let's make our figure with Method 02"
      ]
    },
    {
      "cell_type": "code",
      "execution_count": null,
      "metadata": {
        "ExecuteTime": {
          "end_time": "2021-08-05T17:46:03.946099Z",
          "start_time": "2021-08-05T17:46:03.943832Z"
        },
        "scrolled": true,
        "id": "SruYtRLTfVrj"
      },
      "outputs": [],
      "source": [
        "#Plot 1: Sale Price Distribution - OOP\n"
      ]
    },
    {
      "cell_type": "markdown",
      "metadata": {
        "id": "TlLOmI17fVrj"
      },
      "source": [
        "> Note: if you don't need to customize fonts, you can **combine all `ax.set_xxxx(` commands (`ax.set_title`,`ax.set_xlabel`, etc) into 1 `ax.set()`"
      ]
    },
    {
      "cell_type": "code",
      "execution_count": null,
      "metadata": {
        "ExecuteTime": {
          "end_time": "2021-08-05T17:46:04.590397Z",
          "start_time": "2021-08-05T17:46:04.588169Z"
        },
        "id": "BrsVrj-tfVrj"
      },
      "outputs": [],
      "source": [
        "#Plot 1: Sale Price Distribution - OOP with ax.set()\n"
      ]
    },
    {
      "cell_type": "markdown",
      "metadata": {
        "id": "hmW6LWxffVrj"
      },
      "source": [
        "## Method 03: Plot with Pandas"
      ]
    },
    {
      "cell_type": "markdown",
      "metadata": {
        "id": "T8a-w9PWfVrj"
      },
      "source": [
        "- Pandas's dataframes and series have a `.plot()` method\n",
        "    - [Documentation](https://pandas.pydata.org/docs/reference/api/pandas.DataFrame.plot.html)\n",
        "    - The `kind` argument lets us specify if we want: \n",
        "        - \"scatter\"\n",
        "        - \"hist\"\n",
        "        - \"bar\"\n",
        "        - \"barh\"\n",
        "        - etc.\n",
        "    - There are also some additional plotting methods:\n",
        "        - e.g.: `df.hist()`"
      ]
    },
    {
      "cell_type": "code",
      "execution_count": null,
      "metadata": {
        "ExecuteTime": {
          "end_time": "2021-08-05T17:50:10.188647Z",
          "start_time": "2021-08-05T17:50:10.186373Z"
        },
        "id": "F9J7FL1nfVrj"
      },
      "outputs": [],
      "source": [
        "#Plot 1: Sale Price Distribution - pandas .plot kind=hist\n"
      ]
    },
    {
      "cell_type": "markdown",
      "metadata": {
        "id": "H1qljQ1EfVrj"
      },
      "source": [
        ">- Unfortunately .plot isn't perfect, which is why we also have `df.hist`"
      ]
    },
    {
      "cell_type": "code",
      "execution_count": null,
      "metadata": {
        "ExecuteTime": {
          "end_time": "2021-08-05T17:50:14.408137Z",
          "start_time": "2021-08-05T17:50:14.405921Z"
        },
        "id": "yrDMtn_efVrj"
      },
      "outputs": [],
      "source": [
        "#Plot 1: Sale Price Distribution - pandas .hist\n"
      ]
    },
    {
      "cell_type": "markdown",
      "metadata": {
        "id": "nMAt3jGBfVrj"
      },
      "source": [
        "## Method 04: Seaborn"
      ]
    },
    {
      "cell_type": "markdown",
      "metadata": {
        "ExecuteTime": {
          "end_time": "2021-08-02T21:18:24.975028Z",
          "start_time": "2021-08-02T21:18:24.969082Z"
        },
        "id": "KEQc5yG7fVrk"
      },
      "source": [
        "- Seaborn has 2 different kinds of plotting functions. Basic ones that return an ordinary matplotlib axis and fancy/advanced ones that return an object called a \"FacetGrid\"\n",
        "\n",
        "\n",
        "- Basic Functions (return an `ax`)\n",
        "    ```python\n",
        "    sns.histplot\n",
        "    sns.regplot\n",
        "    sns.scatter\n",
        "    ```\n",
        "- Advanced Functions (return a `FacetGrid`)\n",
        "    ```python\n",
        "    sns.lmplot\n",
        "    sns.catplot\n",
        "    sns.jointplot\n",
        "    ```\n",
        "    \n",
        "- We will make our histogram 2 different ways with Seaborn. \n",
        "    - The simpler `sns.histplot` function.\n",
        "    - The complex `sns.displot` function"
      ]
    },
    {
      "cell_type": "markdown",
      "metadata": {
        "id": "MG7Q3TujfVrk"
      },
      "source": [
        "### Seaborn - Simple Plot (returns an ax)"
      ]
    },
    {
      "cell_type": "code",
      "execution_count": null,
      "metadata": {
        "ExecuteTime": {
          "end_time": "2021-08-05T17:37:58.444787Z",
          "start_time": "2021-08-05T17:37:58.156267Z"
        },
        "id": "Xno-UmzyfVrk"
      },
      "outputs": [],
      "source": [
        "## PLot 1 - seaborn histplot\n"
      ]
    },
    {
      "cell_type": "markdown",
      "metadata": {
        "id": "t32Te92NfVrk"
      },
      "source": [
        "### Seaborn - Advanced Plot (returns a FacetGrid)"
      ]
    },
    {
      "cell_type": "code",
      "execution_count": null,
      "metadata": {
        "ExecuteTime": {
          "end_time": "2021-08-05T17:37:58.779418Z",
          "start_time": "2021-08-05T17:37:58.446564Z"
        },
        "id": "pDNvHT-RfVrk"
      },
      "outputs": [],
      "source": [
        "## PLot 1 - seaborn displot\n"
      ]
    },
    {
      "cell_type": "markdown",
      "source": [
        "# Final Visualizations"
      ],
      "metadata": {
        "id": "D650PN4GiF0P"
      }
    },
    {
      "cell_type": "markdown",
      "source": [
        "## Q1: What is the distribution of home prices in Ames, Iowa?\n"
      ],
      "metadata": {
        "id": "zk32pT8NiKFA"
      }
    },
    {
      "cell_type": "code",
      "source": [
        "## select our favorite approach from above\n",
        "## PLot 1 - seaborn histplot\n"
      ],
      "metadata": {
        "id": "-dcJ4zthiImN"
      },
      "execution_count": null,
      "outputs": []
    },
    {
      "cell_type": "markdown",
      "source": [
        "## Q2: Are there any outliers in terms of home prices?"
      ],
      "metadata": {
        "id": "gfkGg9AmiTMM"
      }
    },
    {
      "cell_type": "code",
      "source": [
        "## Using seaborn\n"
      ],
      "metadata": {
        "id": "Lzk9FmlqiWjH"
      },
      "execution_count": null,
      "outputs": []
    },
    {
      "cell_type": "code",
      "source": [
        "## Using pandas\n"
      ],
      "metadata": {
        "id": "Ob-ITA6YjY16"
      },
      "execution_count": null,
      "outputs": []
    },
    {
      "cell_type": "code",
      "source": [
        ""
      ],
      "metadata": {
        "id": "eX9-GAgejgaa"
      },
      "execution_count": null,
      "outputs": []
    }
  ],
  "metadata": {
    "colab": {
      "collapsed_sections": [],
      "name": "Python_Visualizations_Pt_1.ipynb",
      "provenance": [],
      "include_colab_link": true
    },
    "kernelspec": {
      "display_name": "Python (learn-env)",
      "language": "python",
      "name": "learn-env"
    },
    "language_info": {
      "codemirror_mode": {
        "name": "ipython",
        "version": 3
      },
      "file_extension": ".py",
      "mimetype": "text/x-python",
      "name": "python",
      "nbconvert_exporter": "python",
      "pygments_lexer": "ipython3",
      "version": "3.8.5"
    },
    "toc": {
      "base_numbering": 1,
      "nav_menu": {},
      "number_sections": false,
      "sideBar": true,
      "skip_h1_title": false,
      "title_cell": "Table of Contents",
      "title_sidebar": "Contents",
      "toc_cell": false,
      "toc_position": {
        "height": "calc(100% - 180px)",
        "left": "10px",
        "top": "150px",
        "width": "384px"
      },
      "toc_section_display": true,
      "toc_window_display": true
    },
    "varInspector": {
      "cols": {
        "lenName": 16,
        "lenType": 16,
        "lenVar": 40
      },
      "kernels_config": {
        "python": {
          "delete_cmd_postfix": "",
          "delete_cmd_prefix": "del ",
          "library": "var_list.py",
          "varRefreshCmd": "print(var_dic_list())"
        },
        "r": {
          "delete_cmd_postfix": ") ",
          "delete_cmd_prefix": "rm(",
          "library": "var_list.r",
          "varRefreshCmd": "cat(var_dic_list()) "
        }
      },
      "types_to_exclude": [
        "module",
        "function",
        "builtin_function_or_method",
        "instance",
        "_Feature"
      ],
      "window_display": false
    }
  },
  "nbformat": 4,
  "nbformat_minor": 0
}